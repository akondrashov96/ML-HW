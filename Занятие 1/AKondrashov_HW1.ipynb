{
 "cells": [
  {
   "cell_type": "markdown",
   "id": "bd4417e5",
   "metadata": {},
   "source": [
    "# Домашнее задание 1"
   ]
  },
  {
   "cell_type": "code",
   "execution_count": 1,
   "id": "d488a093",
   "metadata": {},
   "outputs": [
    {
     "name": "stdout",
     "output_type": "stream",
     "text": [
      "Artem Kondrashov\n",
      "Hello, world. My name is Artem Kondrashov. I am a Python programmer.\n"
     ]
    }
   ],
   "source": [
    "name = input()\n",
    "\n",
    "print(\"Hello, world. My name is \", name, \". I am a Python programmer.\", sep = \"\")"
   ]
  }
 ],
 "metadata": {
  "kernelspec": {
   "display_name": "Python 3 (ipykernel)",
   "language": "python",
   "name": "python3"
  },
  "language_info": {
   "codemirror_mode": {
    "name": "ipython",
    "version": 3
   },
   "file_extension": ".py",
   "mimetype": "text/x-python",
   "name": "python",
   "nbconvert_exporter": "python",
   "pygments_lexer": "ipython3",
   "version": "3.10.4"
  }
 },
 "nbformat": 4,
 "nbformat_minor": 5
}
